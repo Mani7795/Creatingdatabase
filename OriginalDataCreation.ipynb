{
 "cells": [
  {
   "cell_type": "code",
   "execution_count": 68,
   "id": "fd43ef85-5c4d-416b-a6ed-4006724c4e61",
   "metadata": {
    "scrolled": true
   },
   "outputs": [
    {
     "data": {
      "application/vnd.jupyter.widget-view+json": {
       "model_id": "0b37255c8007413d9cbfc28f5cfce077",
       "version_major": 2,
       "version_minor": 0
      },
      "text/plain": [
       "Downloading data:   0%|          | 0.00/241M [00:00<?, ?B/s]"
      ]
     },
     "metadata": {},
     "output_type": "display_data"
    },
    {
     "data": {
      "application/vnd.jupyter.widget-view+json": {
       "model_id": "153812aef24641a0bcec2cc158b27087",
       "version_major": 2,
       "version_minor": 0
      },
      "text/plain": [
       "Downloading data:   0%|          | 0.00/270M [00:00<?, ?B/s]"
      ]
     },
     "metadata": {},
     "output_type": "display_data"
    },
    {
     "data": {
      "application/vnd.jupyter.widget-view+json": {
       "model_id": "2d0109f598f945cf97db69774be31347",
       "version_major": 2,
       "version_minor": 0
      },
      "text/plain": [
       "Downloading data:   0%|          | 0.00/21.9M [00:00<?, ?B/s]"
      ]
     },
     "metadata": {},
     "output_type": "display_data"
    },
    {
     "data": {
      "application/vnd.jupyter.widget-view+json": {
       "model_id": "822551b0a5a8438f99a0460a2cead800",
       "version_major": 2,
       "version_minor": 0
      },
      "text/plain": [
       "Generating train split:   0%|          | 0/1400000 [00:00<?, ? examples/s]"
      ]
     },
     "metadata": {},
     "output_type": "display_data"
    },
    {
     "data": {
      "application/vnd.jupyter.widget-view+json": {
       "model_id": "2e9b64b5df724b20840b76ec6594a272",
       "version_major": 2,
       "version_minor": 0
      },
      "text/plain": [
       "Generating test split:   0%|          | 0/60000 [00:00<?, ? examples/s]"
      ]
     },
     "metadata": {},
     "output_type": "display_data"
    }
   ],
   "source": [
    "from datasets import load_dataset\n",
    "\n",
    "ds = load_dataset(\"community-datasets/yahoo_answers_topics\")\n"
   ]
  },
  {
   "cell_type": "code",
   "execution_count": 70,
   "id": "fb1c251f-418f-498c-9ec0-726ee296abdc",
   "metadata": {},
   "outputs": [
    {
     "data": {
      "text/plain": [
       "DatasetDict({\n",
       "    train: Dataset({\n",
       "        features: ['id', 'topic', 'question_title', 'question_content', 'best_answer'],\n",
       "        num_rows: 1400000\n",
       "    })\n",
       "    test: Dataset({\n",
       "        features: ['id', 'topic', 'question_title', 'question_content', 'best_answer'],\n",
       "        num_rows: 60000\n",
       "    })\n",
       "})"
      ]
     },
     "execution_count": 70,
     "metadata": {},
     "output_type": "execute_result"
    }
   ],
   "source": [
    "ds"
   ]
  },
  {
   "cell_type": "code",
   "execution_count": 72,
   "id": "d0a19024-9d4d-4985-87b0-2a444aef7b9c",
   "metadata": {},
   "outputs": [],
   "source": [
    "import re\n",
    "def preprocess_to_fasttext(data, output_file):\n",
    "    with open(output_file, 'w', encoding = 'utf-8') as f:\n",
    "        for example in data:\n",
    "            # Format label in fastText style\n",
    "            label = f\"__label__{example['topic']}\"\n",
    "            # Combine title and content, removing newlines\n",
    "            text = f\"{example['best_answer']}\".replace('\\n', ' ')\n",
    "            text = re.sub(r'[^\\w\\s]', '', text)  # Keep only words and spaces\n",
    "            text = re.sub(r'\\s+', ' ', text)  # Replace multiple spaces with a single space\n",
    "            text = text.strip().lower()\n",
    "            # Write formatted line to file\n",
    "            f.write(f\"{label} {text}\\n\")\n",
    "\n",
    "# Process both the train and test splits\n",
    "preprocess_to_fasttext(ds['train'], \"yahoo_train.txt\")\n",
    "preprocess_to_fasttext(ds['test'], \"yahoo_test.txt\")\n"
   ]
  }
 ],
 "metadata": {
  "kernelspec": {
   "display_name": "Python 3 (ipykernel)",
   "language": "python",
   "name": "python3"
  },
  "language_info": {
   "codemirror_mode": {
    "name": "ipython",
    "version": 3
   },
   "file_extension": ".py",
   "mimetype": "text/x-python",
   "name": "python",
   "nbconvert_exporter": "python",
   "pygments_lexer": "ipython3",
   "version": "3.11.7"
  }
 },
 "nbformat": 4,
 "nbformat_minor": 5
}
